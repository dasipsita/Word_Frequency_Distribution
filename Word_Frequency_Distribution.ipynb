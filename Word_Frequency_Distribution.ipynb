{
  "nbformat": 4,
  "nbformat_minor": 0,
  "metadata": {
    "colab": {
      "provenance": [],
      "mount_file_id": "1xqphplpKRL2mVFNb1VfH4-bxc_gpKNW-",
      "authorship_tag": "ABX9TyOqjWagky8oHz9SH4okJ4EQ",
      "include_colab_link": true
    },
    "kernelspec": {
      "name": "python3",
      "display_name": "Python 3"
    },
    "language_info": {
      "name": "python"
    }
  },
  "cells": [
    {
      "cell_type": "markdown",
      "metadata": {
        "id": "view-in-github",
        "colab_type": "text"
      },
      "source": [
        "<a href=\"https://colab.research.google.com/github/dasipsita/Word_Frequency_Distribution/blob/main/Word_Frequency_Distribution.ipynb\" target=\"_parent\"><img src=\"https://colab.research.google.com/assets/colab-badge.svg\" alt=\"Open In Colab\"/></a>"
      ]
    },
    {
      "cell_type": "markdown",
      "source": [
        "**Write a program to list Top 10 words used in a article, to know most commonly used words by the article**\n",
        "\n",
        "\n",
        "**Note**: you have to remove filler words like “is”, “the”,”in”, “a” etc"
      ],
      "metadata": {
        "id": "oimfb4FE69eW"
      }
    },
    {
      "cell_type": "markdown",
      "source": [
        "## Import Packages"
      ],
      "metadata": {
        "id": "u1REetPWt432"
      }
    },
    {
      "cell_type": "code",
      "source": [
        "import string\n",
        "import nltk\n",
        "from nltk.corpus import stopwords\n",
        "from nltk.probability import FreqDist"
      ],
      "metadata": {
        "id": "2gFAgwxnwmfp"
      },
      "execution_count": null,
      "outputs": []
    },
    {
      "cell_type": "markdown",
      "source": [
        "## Read input file"
      ],
      "metadata": {
        "id": "AgUF0BIS00fC"
      }
    },
    {
      "cell_type": "code",
      "execution_count": null,
      "metadata": {
        "id": "tsRI3rT-tgLy"
      },
      "outputs": [],
      "source": [
        "filePath = '/content/drive/MyDrive/Datasets/test.txt' #add path to your text file\n",
        "with open(filePath, 'r') as f:\n",
        "  lines = f.readlines()"
      ]
    },
    {
      "cell_type": "markdown",
      "source": [
        "## Function to clean text"
      ],
      "metadata": {
        "id": "-xEU7x8C05YB"
      }
    },
    {
      "cell_type": "code",
      "source": [
        "def clean_text(line):\n",
        "\n",
        "  # Convert to lower case\n",
        "  line = line.lower()\n",
        "\n",
        "  # Remove punctuations\n",
        "  line = line.translate(str.maketrans('', '', string.punctuation))\n",
        "\n",
        "  # Remove filler words (stopwords)\n",
        "  stopWords = set(stopwords.words('english'))\n",
        "  wordTokens = line.split()\n",
        "  cleanText = [w for w in wordTokens if not w in stopWords]\n",
        "\n",
        "  return cleanText"
      ],
      "metadata": {
        "id": "eFV1GoNov5AU"
      },
      "execution_count": null,
      "outputs": []
    },
    {
      "cell_type": "markdown",
      "source": [
        "## Top-10 word extraction using sorted dictionary"
      ],
      "metadata": {
        "id": "y4BpQe2W5Gav"
      }
    },
    {
      "cell_type": "markdown",
      "source": [
        "### Extract frequency of each word in the input file"
      ],
      "metadata": {
        "id": "wPupYUh41TS6"
      }
    },
    {
      "cell_type": "code",
      "source": [
        "freqDict = {}\n",
        "for line in lines:\n",
        "  cleanedText = clean_text(line)\n",
        "  for word in cleanedText:\n",
        "    if word in freqDict:\n",
        "      freqDict[word] += 1\n",
        "    else:\n",
        "      freqDict[word] = 1"
      ],
      "metadata": {
        "id": "QU5p7GBG1eYF"
      },
      "execution_count": null,
      "outputs": []
    },
    {
      "cell_type": "markdown",
      "source": [
        "### Print top-10 words in the input file"
      ],
      "metadata": {
        "id": "AgaF55bk1e2u"
      }
    },
    {
      "cell_type": "code",
      "source": [
        "# Reverse sort the freq dictionary based on values and print the top 5\n",
        "sortedDict = sorted(freqDict.items(), key = lambda x: x[1], reverse=True)\n",
        "print(sortedDict[:10])"
      ],
      "metadata": {
        "colab": {
          "base_uri": "https://localhost:8080/"
        },
        "id": "bzdrqlvM1jbk",
        "outputId": "2847eb85-49d9-402b-b9d4-ce0189741580"
      },
      "execution_count": null,
      "outputs": [
        {
          "output_type": "stream",
          "name": "stdout",
          "text": [
            "[('movie', 125), ('think', 99), ('good', 98), ('like', 86), ('yes', 63), ('great', 43), ('movies', 43), ('really', 41), ('see', 39), ('well', 39)]\n"
          ]
        }
      ]
    },
    {
      "cell_type": "markdown",
      "source": [
        "## Top-5 word extraction using NLTK frequency distribution (alternate implementation)"
      ],
      "metadata": {
        "id": "3m0FXOft0_QY"
      }
    },
    {
      "cell_type": "markdown",
      "source": [
        "### Extract frequency of each word in the input file"
      ],
      "metadata": {
        "id": "tF80svxo5hBm"
      }
    },
    {
      "cell_type": "code",
      "source": [
        "freqDist = FreqDist()\n",
        "for line in lines:\n",
        "  cleanedText = clean_text(line)\n",
        "  for word in cleanedText:\n",
        "    freqDist[word] += 1"
      ],
      "metadata": {
        "id": "V8XvQDkOuDdx"
      },
      "execution_count": null,
      "outputs": []
    },
    {
      "cell_type": "markdown",
      "source": [
        "### Print top-5 words in the input file"
      ],
      "metadata": {
        "id": "0AQmw4r91L69"
      }
    },
    {
      "cell_type": "code",
      "source": [
        "freqDist.most_common(10)"
      ],
      "metadata": {
        "colab": {
          "base_uri": "https://localhost:8080/"
        },
        "id": "q2TAht61t2Zv",
        "outputId": "0e2f7085-b7fc-4a8f-fcae-97a7efd7fe6b"
      },
      "execution_count": null,
      "outputs": [
        {
          "output_type": "execute_result",
          "data": {
            "text/plain": [
              "[('movie', 125),\n",
              " ('think', 99),\n",
              " ('good', 98),\n",
              " ('like', 86),\n",
              " ('yes', 63),\n",
              " ('great', 43),\n",
              " ('movies', 43),\n",
              " ('really', 41),\n",
              " ('see', 39),\n",
              " ('well', 39)]"
            ]
          },
          "metadata": {},
          "execution_count": 33
        }
      ]
    }
  ]
}